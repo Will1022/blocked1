{
  "nbformat": 4,
  "nbformat_minor": 0,
  "metadata": {
    "colab": {
      "provenance": [],
      "gpuType": "T4",
      "include_colab_link": true
    },
    "kernelspec": {
      "name": "python3",
      "display_name": "Python 3"
    },
    "language_info": {
      "name": "python"
    },
    "accelerator": "GPU"
  },
  "cells": [
    {
      "cell_type": "markdown",
      "metadata": {
        "id": "view-in-github",
        "colab_type": "text"
      },
      "source": [
        "<a href=\"https://colab.research.google.com/github/Will1022/blocked1/blob/main/Feliratoz%C3%B3_highlight.ipynb\" target=\"_parent\"><img src=\"https://colab.research.google.com/assets/colab-badge.svg\" alt=\"Open In Colab\"/></a>"
      ]
    },
    {
      "cell_type": "code",
      "execution_count": null,
      "metadata": {
        "id": "mBLzaJdaM9xn"
      },
      "outputs": [],
      "source": [
        "!pip install torch==2.0.0 torchaudio==2.0.0"
      ]
    },
    {
      "cell_type": "code",
      "source": [
        "!pip install git+https://github.com/m-bain/whisperx.git"
      ],
      "metadata": {
        "id": "PzczxyEyOJwy"
      },
      "execution_count": null,
      "outputs": []
    },
    {
      "cell_type": "code",
      "source": [
        "!apt install ffmpeg"
      ],
      "metadata": {
        "id": "aSiNHeQ7OZgg"
      },
      "execution_count": null,
      "outputs": []
    },
    {
      "cell_type": "code",
      "source": [
        "!whisperx faszom.mp3 --language hu --highlight_words True\n",
        "\n",
        "import os\n",
        "import re\n",
        "\n",
        "# Konfigurálható színkód\n",
        "font_color = \"#00FF00\"\n",
        "\n",
        "# Mappa létrehozása, ha nem létezik\n",
        "render_dir = 'Render'\n",
        "if not os.path.exists(render_dir):\n",
        "    os.makedirs(render_dir)\n",
        "\n",
        "# Átmásolja az összes SRT fájlt a Render mappába és módosítja a tartalmat\n",
        "for file in os.listdir('.'):\n",
        "    if file.endswith('.srt'):\n",
        "        with open(file, 'r') as f:\n",
        "            content = f.read()\n",
        "\n",
        "        # Cserélje ki a <u> és </u> címkéket\n",
        "        content = content.replace('<u>', f'<font color=\"{font_color}\">').replace('</u>', '</font>')\n",
        "\n",
        "        # Írja a módosított tartalmat az új helyre\n",
        "        with open(os.path.join(render_dir, file), 'w') as f:\n",
        "            f.write(content)\n",
        "\n"
      ],
      "metadata": {
        "colab": {
          "base_uri": "https://localhost:8080/"
        },
        "id": "wTyZus65Ogit",
        "outputId": "9d7e549c-6b85-4e47-dd0f-dcfe9622b3d8"
      },
      "execution_count": 18,
      "outputs": [
        {
          "output_type": "stream",
          "name": "stdout",
          "text": [
            "2023-11-25 22:08:26.651223: E tensorflow/compiler/xla/stream_executor/cuda/cuda_dnn.cc:9342] Unable to register cuDNN factory: Attempting to register factory for plugin cuDNN when one has already been registered\n",
            "2023-11-25 22:08:26.651288: E tensorflow/compiler/xla/stream_executor/cuda/cuda_fft.cc:609] Unable to register cuFFT factory: Attempting to register factory for plugin cuFFT when one has already been registered\n",
            "2023-11-25 22:08:26.654092: E tensorflow/compiler/xla/stream_executor/cuda/cuda_blas.cc:1518] Unable to register cuBLAS factory: Attempting to register factory for plugin cuBLAS when one has already been registered\n",
            "2023-11-25 22:08:29.122940: W tensorflow/compiler/tf2tensorrt/utils/py_utils.cc:38] TF-TRT Warning: Could not find TensorRT\n",
            "/usr/local/lib/python3.10/dist-packages/torchvision/io/image.py:13: UserWarning: Failed to load image Python extension: '/usr/local/lib/python3.10/dist-packages/torchvision/image.so: undefined symbol: _ZN3c104cuda9SetDeviceEi'If you don't plan on using image functionality from `torchvision.io`, you can ignore this warning. Otherwise, there might be something wrong with your environment. Did you have `libjpeg` or `libpng` installed before building `torchvision` from source?\n",
            "  warn(\n",
            "Lightning automatically upgraded your loaded checkpoint from v1.5.4 to v2.1.2. To apply the upgrade to your files permanently, run `python -m pytorch_lightning.utilities.upgrade_checkpoint ../root/.cache/torch/whisperx-vad-segmentation.bin`\n",
            "Model was trained with pyannote.audio 0.0.1, yours is 3.1.0. Bad things might happen unless you revert pyannote.audio to 0.x.\n",
            "Model was trained with torch 1.10.0+cu102, yours is 2.0.0+cu117. Bad things might happen unless you revert torch to 1.x.\n",
            ">>Performing transcription...\n",
            "Ignored unknown kwarg option normalize\n",
            "Ignored unknown kwarg option normalize\n",
            "Ignored unknown kwarg option normalize\n",
            "Ignored unknown kwarg option normalize\n",
            ">>Performing alignment...\n"
          ]
        }
      ]
    }
  ]
}